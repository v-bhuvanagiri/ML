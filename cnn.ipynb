{
 "cells": [
  {
   "cell_type": "code",
   "execution_count": 1,
   "id": "33d8d910",
   "metadata": {},
   "outputs": [],
   "source": [
    "from tensorflow.keras import layers\n",
    "from tensorflow.keras import models"
   ]
  },
  {
   "cell_type": "code",
   "execution_count": 2,
   "id": "d664ccc0",
   "metadata": {},
   "outputs": [],
   "source": [
    "from keras.datasets import fashion_mnist\n",
    "from keras.utils import to_categorical"
   ]
  },
  {
   "cell_type": "code",
   "execution_count": 13,
   "id": "d10ead02",
   "metadata": {},
   "outputs": [],
   "source": [
    "(X_train,y_train),(X_test,y_test)=fashion_mnist.load_data()\n",
    "X_train=X_train.reshape(len(X_train),28,28)\n",
    "X_test=X_test.reshape(len(X_test),28,28)\n",
    "y_train=y_train.reshape(len(y_train),1)\n",
    "y_test=y_test.reshape(len(y_test),1)\n",
    "\n",
    "X_train=X_train/255.0\n",
    "X_test=X_test/255.0\n",
    "y_train=y_train.reshape(-1,)\n",
    "\n",
    "classes=[\"T-shirt/top\",\"Trouser\",\"Pullover\",\"Dress\",\"Coat\",\n",
    "\"Sandal\",\"Shirt\",\"Sneaker\",\"Bag\",\"Ankle boot\"]"
   ]
  },
  {
   "cell_type": "code",
   "execution_count": 4,
   "id": "4ffe5a88",
   "metadata": {},
   "outputs": [
    {
     "data": {
      "text/plain": [
       "(60000, 28, 28)"
      ]
     },
     "execution_count": 4,
     "metadata": {},
     "output_type": "execute_result"
    }
   ],
   "source": [
    "train_images.shape"
   ]
  },
  {
   "cell_type": "code",
   "execution_count": 5,
   "id": "75c05a5a",
   "metadata": {},
   "outputs": [
    {
     "data": {
      "text/plain": [
       "(10000, 28, 28)"
      ]
     },
     "execution_count": 5,
     "metadata": {},
     "output_type": "execute_result"
    }
   ],
   "source": [
    "test_images.shape"
   ]
  },
  {
   "cell_type": "code",
   "execution_count": 9,
   "id": "622a0b91",
   "metadata": {},
   "outputs": [],
   "source": [
    "train_images = train_images.reshape((len(train_images),28,28))\n",
    "train_images = train_images.astype(\"float32\")/255"
   ]
  },
  {
   "cell_type": "code",
   "execution_count": 10,
   "id": "5ff1c759",
   "metadata": {},
   "outputs": [],
   "source": [
    "train_labels = train_labels.reshape(-1,)\n"
   ]
  },
  {
   "cell_type": "code",
   "execution_count": 11,
   "id": "685608d4",
   "metadata": {},
   "outputs": [
    {
     "ename": "ValueError",
     "evalue": "cannot reshape array of size 60000 into shape (60000,28,28)",
     "output_type": "error",
     "traceback": [
      "\u001b[1;31m---------------------------------------------------------------------------\u001b[0m",
      "\u001b[1;31mValueError\u001b[0m                                Traceback (most recent call last)",
      "Cell \u001b[1;32mIn[11], line 1\u001b[0m\n\u001b[1;32m----> 1\u001b[0m train_labels \u001b[38;5;241m=\u001b[39m \u001b[43mtrain_labels\u001b[49m\u001b[38;5;241;43m.\u001b[39;49m\u001b[43mreshape\u001b[49m\u001b[43m(\u001b[49m\u001b[43m(\u001b[49m\u001b[38;5;28;43mlen\u001b[39;49m\u001b[43m(\u001b[49m\u001b[43mtrain_labels\u001b[49m\u001b[43m)\u001b[49m\u001b[43m,\u001b[49m\u001b[38;5;241;43m28\u001b[39;49m\u001b[43m,\u001b[49m\u001b[38;5;241;43m28\u001b[39;49m\u001b[43m)\u001b[49m\u001b[43m)\u001b[49m\n\u001b[0;32m      2\u001b[0m train_labels \u001b[38;5;241m=\u001b[39m train_labels\u001b[38;5;241m.\u001b[39mastype(\u001b[38;5;124m\"\u001b[39m\u001b[38;5;124mfloat32\u001b[39m\u001b[38;5;124m\"\u001b[39m)\u001b[38;5;241m/\u001b[39m\u001b[38;5;241m255\u001b[39m\n",
      "\u001b[1;31mValueError\u001b[0m: cannot reshape array of size 60000 into shape (60000,28,28)"
     ]
    }
   ],
   "source": [
    "train_labels = train_labels.reshape((len(train_labels),28,28))\n",
    "train_labels = train_labels.astype(\"float32\")/255"
   ]
  },
  {
   "cell_type": "code",
   "execution_count": null,
   "id": "04c3cc11",
   "metadata": {},
   "outputs": [],
   "source": [
    "test_images = test_images.reshape((10000,28,28,1))\n",
    "test_images = test_images.astype(\"float32\")/255"
   ]
  },
  {
   "cell_type": "code",
   "execution_count": null,
   "id": "e73eb18f",
   "metadata": {},
   "outputs": [],
   "source": [
    "train_labels = to_categorical(train_labels)\n",
    "train_images  = to_categorical(train_images)"
   ]
  },
  {
   "cell_type": "code",
   "execution_count": 21,
   "id": "060f9153",
   "metadata": {},
   "outputs": [],
   "source": [
    "model= models.Sequential()"
   ]
  },
  {
   "cell_type": "code",
   "execution_count": 22,
   "id": "1dc07f64",
   "metadata": {},
   "outputs": [],
   "source": [
    "model.add(layers.Conv2D(32,(5,5), activation = \"relu\",input_shape = (28,28,1)))\n",
    "model.add(layers.MaxPool2D((2,2)))"
   ]
  },
  {
   "cell_type": "code",
   "execution_count": 23,
   "id": "a3cefea2",
   "metadata": {},
   "outputs": [],
   "source": [
    "model.add(layers.Conv2D(32,(5,5), activation = \"relu\",input_shape = (28,28,1)))\n",
    "model.add(layers.MaxPool2D((2,2)))"
   ]
  },
  {
   "cell_type": "code",
   "execution_count": 24,
   "id": "3a126aee",
   "metadata": {},
   "outputs": [],
   "source": [
    "model.add(layers.Flatten())\n",
    "model.add(layers.Dense(10,activation = \"softmax\"))"
   ]
  },
  {
   "cell_type": "code",
   "execution_count": 25,
   "id": "c65a4238",
   "metadata": {},
   "outputs": [
    {
     "name": "stdout",
     "output_type": "stream",
     "text": [
      "Model: \"sequential_1\"\n",
      "_________________________________________________________________\n",
      " Layer (type)                Output Shape              Param #   \n",
      "=================================================================\n",
      " conv2d_2 (Conv2D)           (None, 24, 24, 32)        832       \n",
      "                                                                 \n",
      " max_pooling2d_2 (MaxPooling  (None, 12, 12, 32)       0         \n",
      " 2D)                                                             \n",
      "                                                                 \n",
      " conv2d_3 (Conv2D)           (None, 8, 8, 32)          25632     \n",
      "                                                                 \n",
      " max_pooling2d_3 (MaxPooling  (None, 4, 4, 32)         0         \n",
      " 2D)                                                             \n",
      "                                                                 \n",
      " flatten_1 (Flatten)         (None, 512)               0         \n",
      "                                                                 \n",
      " dense_1 (Dense)             (None, 10)                5130      \n",
      "                                                                 \n",
      "=================================================================\n",
      "Total params: 31,594\n",
      "Trainable params: 31,594\n",
      "Non-trainable params: 0\n",
      "_________________________________________________________________\n"
     ]
    }
   ],
   "source": [
    "model.summary()"
   ]
  },
  {
   "cell_type": "code",
   "execution_count": 28,
   "id": "63f482f3",
   "metadata": {},
   "outputs": [],
   "source": [
    "model.compile(optimizer = \"adam\",loss = \"sparse_categorical_crossentropy\",metrics = [\"accuracy\"])"
   ]
  },
  {
   "cell_type": "code",
   "execution_count": 29,
   "id": "fec1c975",
   "metadata": {},
   "outputs": [
    {
     "name": "stdout",
     "output_type": "stream",
     "text": [
      "Epoch 1/5\n",
      "6000/6000 [==============================] - 76s 12ms/step - loss: 0.8268 - accuracy: 0.6996\n",
      "Epoch 2/5\n",
      "6000/6000 [==============================] - 74s 12ms/step - loss: 0.6156 - accuracy: 0.7738\n",
      "Epoch 3/5\n",
      "6000/6000 [==============================] - 74s 12ms/step - loss: 0.5385 - accuracy: 0.8023\n",
      "Epoch 4/5\n",
      "6000/6000 [==============================] - 74s 12ms/step - loss: 0.4901 - accuracy: 0.8210\n",
      "Epoch 5/5\n",
      "6000/6000 [==============================] - 74s 12ms/step - loss: 0.4578 - accuracy: 0.8352\n"
     ]
    },
    {
     "data": {
      "text/plain": [
       "<keras.callbacks.History at 0x16c45bc19c0>"
      ]
     },
     "execution_count": 29,
     "metadata": {},
     "output_type": "execute_result"
    }
   ],
   "source": [
    "model.fit(train_images,train_labels,epochs=5,batch_size=10)"
   ]
  },
  {
   "cell_type": "code",
   "execution_count": null,
   "id": "687a8f18",
   "metadata": {},
   "outputs": [],
   "source": [
    "test_loss,test_accuracy = model.evaluate(test_images,test_labels)"
   ]
  },
  {
   "cell_type": "code",
   "execution_count": null,
   "id": "5707c095",
   "metadata": {},
   "outputs": [],
   "source": []
  }
 ],
 "metadata": {
  "kernelspec": {
   "display_name": "Python 3 (ipykernel)",
   "language": "python",
   "name": "python3"
  },
  "language_info": {
   "codemirror_mode": {
    "name": "ipython",
    "version": 3
   },
   "file_extension": ".py",
   "mimetype": "text/x-python",
   "name": "python",
   "nbconvert_exporter": "python",
   "pygments_lexer": "ipython3",
   "version": "3.10.9"
  }
 },
 "nbformat": 4,
 "nbformat_minor": 5
}
