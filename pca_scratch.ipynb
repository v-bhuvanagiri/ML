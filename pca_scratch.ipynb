{
 "cells": [
  {
   "cell_type": "code",
   "execution_count": 1,
   "id": "27ed1220",
   "metadata": {},
   "outputs": [],
   "source": [
    "import numpy as np\n",
    "import pandas as pd\n",
    "import matplotlib.pyplot as plt"
   ]
  },
  {
   "cell_type": "code",
   "execution_count": 2,
   "id": "ddaf0bbd",
   "metadata": {},
   "outputs": [],
   "source": [
    "class PCA:\n",
    "    def __init__(self,n_comp):\n",
    "        self.n_comp = n_comp\n",
    "        self.mean = None\n",
    "        self.Components = None\n",
    "    def fit(self,x):\n",
    "        self.mean = x.mean()\n",
    "        x = x-self.mean\n",
    "        \n",
    "        cov = np.cov(x.T)\n",
    "        \n",
    "        eigenvalues,eigenvectors = np.linalg.eig(cov)\n",
    "        \n",
    "        eigenvectors = eigenvectors.T\n",
    "        index = np.argsort(eigenvalues)[::-1]\n",
    "        \n",
    "        eigenvalues = eigenvalues[index]\n",
    "        eigenvectors = eigenvectors[index]\n",
    "        self.components = eigenvectors[0:self.n_comp]\n",
    "        \n",
    "    def transform(self,x):\n",
    "        x = x - self.mean\n",
    "        return np.dot(x,self.components.T)"
   ]
  },
  {
   "cell_type": "code",
   "execution_count": 3,
   "id": "4b3f18f2",
   "metadata": {},
   "outputs": [],
   "source": [
    "data = pd.read_csv(r\"C:\\Users\\Vaishnavi\\ML\\Practice codes\\mnist_train.csv\")"
   ]
  },
  {
   "cell_type": "code",
   "execution_count": 4,
   "id": "02b85ce9",
   "metadata": {},
   "outputs": [
    {
     "name": "stdout",
     "output_type": "stream",
     "text": [
      "<class 'pandas.core.frame.DataFrame'>\n",
      "RangeIndex: 60000 entries, 0 to 59999\n",
      "Columns: 785 entries, label to 28x28\n",
      "dtypes: int64(785)\n",
      "memory usage: 359.3 MB\n"
     ]
    }
   ],
   "source": [
    "data.info()"
   ]
  },
  {
   "cell_type": "code",
   "execution_count": 5,
   "id": "0ee46db6",
   "metadata": {},
   "outputs": [],
   "source": [
    "X = data.drop([\"label\"],axis =1).values\n",
    "y = data[\"label\"]"
   ]
  },
  {
   "cell_type": "code",
   "execution_count": 6,
   "id": "6b305419",
   "metadata": {},
   "outputs": [],
   "source": [
    "pca = PCA(8)"
   ]
  },
  {
   "cell_type": "code",
   "execution_count": 7,
   "id": "bf00ab5f",
   "metadata": {},
   "outputs": [],
   "source": [
    "pca.fit(X)"
   ]
  },
  {
   "cell_type": "code",
   "execution_count": 8,
   "id": "a0261881",
   "metadata": {},
   "outputs": [
    {
     "data": {
      "text/plain": [
       "(60000, 784)"
      ]
     },
     "execution_count": 8,
     "metadata": {},
     "output_type": "execute_result"
    }
   ],
   "source": [
    "X.shape"
   ]
  },
  {
   "cell_type": "code",
   "execution_count": 10,
   "id": "6ba2a55e",
   "metadata": {},
   "outputs": [],
   "source": [
    "X_projected = pca.transform(X)"
   ]
  },
  {
   "cell_type": "code",
   "execution_count": 14,
   "id": "f9151401",
   "metadata": {},
   "outputs": [
    {
     "name": "stdout",
     "output_type": "stream",
     "text": [
      "<class 'pandas.core.frame.DataFrame'>\n",
      "RangeIndex: 60000 entries, 0 to 59999\n",
      "Data columns (total 9 columns):\n",
      " #   Column  Non-Null Count  Dtype  \n",
      "---  ------  --------------  -----  \n",
      " 0   0       60000 non-null  float64\n",
      " 1   1       60000 non-null  float64\n",
      " 2   2       60000 non-null  float64\n",
      " 3   3       60000 non-null  float64\n",
      " 4   4       60000 non-null  float64\n",
      " 5   5       60000 non-null  float64\n",
      " 6   6       60000 non-null  float64\n",
      " 7   7       60000 non-null  float64\n",
      " 8   y       60000 non-null  int64  \n",
      "dtypes: float64(8), int64(1)\n",
      "memory usage: 4.1 MB\n"
     ]
    }
   ],
   "source": [
    "data1 = pd.DataFrame(X_projected)\n",
    "data1[\"y\"] = data[\"label\"]\n",
    "data1.info()"
   ]
  },
  {
   "cell_type": "code",
   "execution_count": null,
   "id": "2817b922",
   "metadata": {},
   "outputs": [],
   "source": []
  }
 ],
 "metadata": {
  "kernelspec": {
   "display_name": "Python 3 (ipykernel)",
   "language": "python",
   "name": "python3"
  },
  "language_info": {
   "codemirror_mode": {
    "name": "ipython",
    "version": 3
   },
   "file_extension": ".py",
   "mimetype": "text/x-python",
   "name": "python",
   "nbconvert_exporter": "python",
   "pygments_lexer": "ipython3",
   "version": "3.11.5"
  }
 },
 "nbformat": 4,
 "nbformat_minor": 5
}
