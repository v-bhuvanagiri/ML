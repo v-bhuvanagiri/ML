{
 "cells": [
  {
   "cell_type": "code",
   "execution_count": 1,
   "id": "3423e929",
   "metadata": {},
   "outputs": [],
   "source": [
    "import numpy as np\n",
    "def sigmoid(x):\n",
    "    return 1/(1+np.exp(-x))\n",
    "\n",
    "def sigmoid_derivative(x):\n",
    "    return sigmoid(x)*(1-sigmoid(x))\n",
    "def softmax(x):\n",
    "    exp_scores = np.exp(x)\n",
    "    return exp_scores/np.sum(exp_scores,keepdims = True,axis =1)"
   ]
  },
  {
   "cell_type": "code",
   "execution_count": 43,
   "id": "b32c0c3c",
   "metadata": {},
   "outputs": [],
   "source": [
    "class nn2:\n",
    "    def __init__(self,input_dim,output_dim):\n",
    "        self.wt1 = np.random.randn(input_dim,64)\n",
    "        self.wt2 = np.random.randn(64,32)\n",
    "        self.wt3 = np.random.randn(32,16)\n",
    "        self.wt4 = np.random.randn(16,output_dim)\n",
    "        \n",
    "        self.b1 = np.zeros((1,64))\n",
    "        self.b2 = np.zeros((1,32))\n",
    "        self.b3 = np.zeros((1,16))\n",
    "        self.b4 = np.zeros((1,output_dim))\n",
    "        \n",
    "    def  forward(self,x_train):\n",
    "        self.hidden_layer1 = np.dot(x_train,self.wt1) + self.b1\n",
    "        self.hidden_activ1 = sigmoid(self.hidden_layer1)\n",
    "        \n",
    "        self.hidden_layer2 = np.dot(self.hidden_activ1,self.wt2) + self.b2\n",
    "        self.hidden_activ2 = sigmoid(self.hidden_layer2)\n",
    "        \n",
    "        self.hidden_layer3 = np.dot(self.hidden_activ2,self.wt3) + self.b3\n",
    "        self.hidden_activ3 = sigmoid(self.hidden_layer3)\n",
    "        \n",
    "        self.output_layer = np.dot(self.hidden_activ3,self.wt4) + self.b4\n",
    "        self.output_activ = softmax(self.output_layer)\n",
    "        \n",
    "        return self.output_activ\n",
    "            \n",
    "    def  backward(self,x,y,lr):\n",
    "        output_delta = self.output_activ\n",
    "        output_delta[range(x.shape[0]),y] -= 1\n",
    "        hidden_delta3 = np.dot(output_delta,self.wt4.T)*sigmoid_derivative(self.hidden_activ3)\n",
    "        hidden_delta2 = np.dot(hidden_delta3,self.wt3.T)*sigmoid_derivative(self.hidden_activ2)\n",
    "        hidden_delta1 = np.dot(hidden_delta2,self.wt2.T)*sigmoid_derivative(self.hidden_activ1)\n",
    "        \n",
    "        \n",
    "        d_weights4 = np.dot(self.hidden_activ3.T,output_delta)\n",
    "        d_weights3 = np.dot(self.hidden_activ2.T,hidden_delta3)\n",
    "        d_weights2 = np.dot(self.hidden_activ1.T,hidden_delta2)\n",
    "        d_weights1 = np.dot(x.T,hidden_delta1)\n",
    "        \n",
    "        \n",
    "        d_b4 = np.sum(output_delta,keepdims=True,axis =0)\n",
    "        d_b3 = np.sum(hidden_delta3,keepdims=True,axis =0)\n",
    "        d_b2 = np.sum(hidden_delta2,keepdims=True,axis =0)\n",
    "        d_b1 = np.sum(hidden_delta1,keepdims=True,axis =0)\n",
    "        \n",
    "        \n",
    "        self.wt4 -= lr* d_weights4\n",
    "        self.wt3 -= lr* d_weights3\n",
    "        self.wt2 -= lr* d_weights2\n",
    "        self.wt1 -= lr* d_weights1\n",
    "        \n",
    "        self.b4 -= lr* d_b4\n",
    "        self.b3 -= lr* d_b3\n",
    "        self.b2 -= lr* d_b2\n",
    "        self.b1 -= lr* d_b1\n",
    "        \n",
    "        "
   ]
  },
  {
   "cell_type": "code",
   "execution_count": 44,
   "id": "8c39831f",
   "metadata": {},
   "outputs": [],
   "source": [
    "from sklearn.datasets import load_wine\n",
    "\n",
    "data = load_wine()\n",
    "x = data.data\n",
    "y = data.target"
   ]
  },
  {
   "cell_type": "code",
   "execution_count": 45,
   "id": "0be7b8ce",
   "metadata": {},
   "outputs": [],
   "source": [
    "from sklearn.model_selection import train_test_split\n",
    "x_train,x_test,y_train,y_test = train_test_split(x,y,test_size=0.3,random_state=6)"
   ]
  },
  {
   "cell_type": "code",
   "execution_count": 46,
   "id": "4cd27bf8",
   "metadata": {},
   "outputs": [],
   "source": [
    "from sklearn.preprocessing import StandardScaler\n",
    "\n",
    "sc = StandardScaler()\n",
    "x_train = sc.fit_transform(x_train)\n",
    "x_test = sc.transform(x_test)"
   ]
  },
  {
   "cell_type": "code",
   "execution_count": 47,
   "id": "23930d43",
   "metadata": {},
   "outputs": [],
   "source": [
    "nn2 = nn2(x_train.shape[1],len(np.unique(y_test)))\n",
    "epochs = 100\n",
    "for i in range(epochs):\n",
    "    nn2.forward(x_train)\n",
    "    nn2.backward(x_train,y_train,0.01)\n",
    "    \n",
    "c = []    \n",
    "for i in x_test:\n",
    "    c.append(np.argmax(nn2.forward(i)))"
   ]
  },
  {
   "cell_type": "code",
   "execution_count": null,
   "id": "14adbeb3",
   "metadata": {},
   "outputs": [],
   "source": [
    "from sklearn.metrics import accuracy_score\n",
    "\n"
   ]
  }
 ],
 "metadata": {
  "kernelspec": {
   "display_name": "Python 3 (ipykernel)",
   "language": "python",
   "name": "python3"
  },
  "language_info": {
   "codemirror_mode": {
    "name": "ipython",
    "version": 3
   },
   "file_extension": ".py",
   "mimetype": "text/x-python",
   "name": "python",
   "nbconvert_exporter": "python",
   "pygments_lexer": "ipython3",
   "version": "3.11.5"
  }
 },
 "nbformat": 4,
 "nbformat_minor": 5
}
