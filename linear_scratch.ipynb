{
 "cells": [
  {
   "cell_type": "code",
   "execution_count": 1,
   "id": "a9c22872",
   "metadata": {},
   "outputs": [],
   "source": [
    "import pandas as pd"
   ]
  },
  {
   "cell_type": "code",
   "execution_count": 2,
   "id": "61cfd82a",
   "metadata": {},
   "outputs": [],
   "source": [
    "df = pd.read_csv(\"regression.csv\")"
   ]
  },
  {
   "cell_type": "code",
   "execution_count": 3,
   "id": "c6efd2ea",
   "metadata": {},
   "outputs": [
    {
     "name": "stdout",
     "output_type": "stream",
     "text": [
      "<class 'pandas.core.frame.DataFrame'>\n",
      "RangeIndex: 30 entries, 0 to 29\n",
      "Data columns (total 2 columns):\n",
      " #   Column           Non-Null Count  Dtype  \n",
      "---  ------           --------------  -----  \n",
      " 0   YearsExperience  30 non-null     float64\n",
      " 1   Salary           30 non-null     float64\n",
      "dtypes: float64(2)\n",
      "memory usage: 608.0 bytes\n"
     ]
    }
   ],
   "source": [
    "df.info()"
   ]
  },
  {
   "cell_type": "code",
   "execution_count": 4,
   "id": "825b6a44",
   "metadata": {},
   "outputs": [],
   "source": [
    "X = df.iloc[:,0].values"
   ]
  },
  {
   "cell_type": "code",
   "execution_count": 5,
   "id": "a45e6889",
   "metadata": {},
   "outputs": [],
   "source": [
    "y = df.iloc[:,1].values"
   ]
  },
  {
   "cell_type": "code",
   "execution_count": 20,
   "id": "f62f3484",
   "metadata": {},
   "outputs": [],
   "source": [
    "class slr:\n",
    "    def __init__(self,x,y):\n",
    "        self.x = x\n",
    "        self.y = y\n",
    "        self.m = None\n",
    "        self.c = None\n",
    "    def fit(self,x,y):\n",
    "        n = len(x)\n",
    "        x_mean = self.x.mean()\n",
    "        y_mean = self.y.mean()\n",
    "        num =0\n",
    "        den=0\n",
    "        for i in range(n):\n",
    "            num += ((x[i] - x_mean)*(y[i] - y_mean))\n",
    "            den += (x[i] - x.mean())**2\n",
    "            \n",
    "        self.m = num/den\n",
    "        self.c= y.mean() - self.m*x.mean()\n",
    "        print(self.m)\n",
    "        print(self.c)\n",
    "        \n",
    "    def predict(self,x_test):\n",
    "        y_pred = self.m*x_test + self.c \n",
    "        print(y_pred)\n",
    "    \n",
    "        "
   ]
  },
  {
   "cell_type": "code",
   "execution_count": 21,
   "id": "54507f84",
   "metadata": {},
   "outputs": [],
   "source": [
    "from sklearn.model_selection import train_test_split\n",
    "x_train,x_test,y_train,y_test = train_test_split(X,y,random_state=6,test_size=0.3)"
   ]
  },
  {
   "cell_type": "code",
   "execution_count": 22,
   "id": "f43f269e",
   "metadata": {},
   "outputs": [],
   "source": [
    "model = slr(x_train,y_train)"
   ]
  },
  {
   "cell_type": "code",
   "execution_count": 23,
   "id": "653c2f22",
   "metadata": {},
   "outputs": [
    {
     "name": "stdout",
     "output_type": "stream",
     "text": [
      "9721.519531100845\n",
      "23134.03331551415\n"
     ]
    }
   ],
   "source": [
    "model.fit(x_train,y_train)"
   ]
  },
  {
   "cell_type": "code",
   "execution_count": 24,
   "id": "97b401fe",
   "metadata": {},
   "outputs": [
    {
     "name": "stdout",
     "output_type": "stream",
     "text": [
      "[ 33827.70479973 123265.68448585 116460.62081408  52298.59190882\n",
      "  74658.08683035  81463.15050212  54242.89581504  51326.43995571\n",
      "  99934.03761121]\n"
     ]
    }
   ],
   "source": [
    "model.predict(x_test)"
   ]
  },
  {
   "cell_type": "code",
   "execution_count": 25,
   "id": "4d5e39a6",
   "metadata": {},
   "outputs": [],
   "source": [
    "r = slr"
   ]
  },
  {
   "cell_type": "code",
   "execution_count": null,
   "id": "22c49d65",
   "metadata": {},
   "outputs": [],
   "source": []
  }
 ],
 "metadata": {
  "kernelspec": {
   "display_name": "Python 3 (ipykernel)",
   "language": "python",
   "name": "python3"
  },
  "language_info": {
   "codemirror_mode": {
    "name": "ipython",
    "version": 3
   },
   "file_extension": ".py",
   "mimetype": "text/x-python",
   "name": "python",
   "nbconvert_exporter": "python",
   "pygments_lexer": "ipython3",
   "version": "3.10.9"
  }
 },
 "nbformat": 4,
 "nbformat_minor": 5
}
